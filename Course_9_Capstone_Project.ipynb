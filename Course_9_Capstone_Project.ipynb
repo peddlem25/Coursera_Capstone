{
  "nbformat": 4,
  "nbformat_minor": 0,
  "metadata": {
    "colab": {
      "name": "Course 9 Capstone Project.ipynb",
      "provenance": []
    },
    "kernelspec": {
      "name": "python3",
      "display_name": "Python 3"
    }
  },
  "cells": [
    {
      "cell_type": "markdown",
      "metadata": {
        "id": "88Xl6EhRP8IR",
        "colab_type": "text"
      },
      "source": [
        "#Matt Peddle \n",
        "Course 9 Capstone Project"
      ]
    },
    {
      "cell_type": "markdown",
      "metadata": {
        "id": "vKhIzOLFQCnw",
        "colab_type": "text"
      },
      "source": [
        "##Outline\n",
        "Create a new repository on your Github account and name it Coursera_Capstone. I have prepared a guide to walk you through the process of creating a repository and setting it up. For Mac users, click here. For Windows users, click here.\n",
        "\n",
        "Now, start a Jupyter Notebook using any platform that you are comfortable with and do the following:\n",
        "\n",
        "\n",
        "*   Write some markdown to explain that this notebook will be mainly used for the \n",
        "*   Import the pandas library as pd.\n",
        "*   Import the Numpy library as np.\n",
        "*   Print the following the statement: Hello Capstone Project Course!\n",
        "*   Push the Notebook to your Github repository and submit a link to the notebook on your Github repository.\n"
      ]
    },
    {
      "cell_type": "code",
      "metadata": {
        "id": "8qFatBN8P7Lp",
        "colab_type": "code",
        "colab": {
          "base_uri": "https://localhost:8080/",
          "height": 102
        },
        "outputId": "f0ce4cb1-c5e7-443d-fd6b-f389b0226c2c"
      },
      "source": [
        "#Import pandas library as pd\n",
        "!pip install pandas"
      ],
      "execution_count": 5,
      "outputs": [
        {
          "output_type": "stream",
          "text": [
            "Requirement already satisfied: pandas in /usr/local/lib/python3.6/dist-packages (0.25.3)\n",
            "Requirement already satisfied: python-dateutil>=2.6.1 in /usr/local/lib/python3.6/dist-packages (from pandas) (2.6.1)\n",
            "Requirement already satisfied: pytz>=2017.2 in /usr/local/lib/python3.6/dist-packages (from pandas) (2018.9)\n",
            "Requirement already satisfied: numpy>=1.13.3 in /usr/local/lib/python3.6/dist-packages (from pandas) (1.17.5)\n",
            "Requirement already satisfied: six>=1.5 in /usr/local/lib/python3.6/dist-packages (from python-dateutil>=2.6.1->pandas) (1.12.0)\n"
          ],
          "name": "stdout"
        }
      ]
    },
    {
      "cell_type": "code",
      "metadata": {
        "id": "vo5TKeR2Q_OL",
        "colab_type": "code",
        "colab": {
          "base_uri": "https://localhost:8080/",
          "height": 34
        },
        "outputId": "658a0820-6d82-4844-d4e4-7ad2bed79bbd"
      },
      "source": [
        "#Import the Numpy library as np\n",
        "!pip install Numpy"
      ],
      "execution_count": 6,
      "outputs": [
        {
          "output_type": "stream",
          "text": [
            "Requirement already satisfied: Numpy in /usr/local/lib/python3.6/dist-packages (1.17.5)\n"
          ],
          "name": "stdout"
        }
      ]
    },
    {
      "cell_type": "code",
      "metadata": {
        "id": "gdWtL7lLRHVI",
        "colab_type": "code",
        "colab": {
          "base_uri": "https://localhost:8080/",
          "height": 34
        },
        "outputId": "f40301aa-a46d-4697-9d31-8eef61df517d"
      },
      "source": [
        "#Print the following the statement: Hello Capstone Project Course!\n",
        "print(\"Hello Capstone Project Course!\")"
      ],
      "execution_count": 13,
      "outputs": [
        {
          "output_type": "stream",
          "text": [
            "Hello Capstone Project Course!\n"
          ],
          "name": "stdout"
        }
      ]
    }
  ]
}